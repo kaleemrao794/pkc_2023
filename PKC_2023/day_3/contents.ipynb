{
 "cells": [
  {
   "attachments": {},
   "cell_type": "markdown",
   "metadata": {},
   "source": [
    "### **This chapter includes**\n",
    "* first line of code\n",
    "* different types of mathemtical operations\n",
    "* strings\n",
    "* comments in python\n",
    "* variables\n",
    "* input function\n",
    "* logical operators\n",
    "* converting data types\n",
    "* building conditional statements\n",
    "* defining functions\n",
    "* loops\n",
    "* importing libraries\n",
    "* troubleshooting"
   ]
  }
 ],
 "metadata": {
  "kernelspec": {
   "display_name": "Python 3",
   "language": "python",
   "name": "python3"
  },
  "language_info": {
   "name": "python",
   "version": "3.11.1 (tags/v3.11.1:a7a450f, Dec  6 2022, 19:58:39) [MSC v.1934 64 bit (AMD64)]"
  },
  "orig_nbformat": 4,
  "vscode": {
   "interpreter": {
    "hash": "c107cb7db031e0320f5e3c4bb72333b6248e82805dd88ee8f6104d2df3fd6ecf"
   }
  }
 },
 "nbformat": 4,
 "nbformat_minor": 2
}
