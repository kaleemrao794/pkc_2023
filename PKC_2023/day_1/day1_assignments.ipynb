{
 "cells": [
  {
   "attachments": {},
   "cell_type": "markdown",
   "metadata": {},
   "source": [
    "# **Assignment No. 1**"
   ]
  },
  {
   "attachments": {},
   "cell_type": "markdown",
   "metadata": {},
   "source": [
    "* **PMDAS** stands for Parentheses, Multiplication, Division, Addition, and Subtraction.\\\n",
    "     It is an acronym that is used to remember the order of operations when evaluating\\\n",
    "     mathematical expressions. This acronym is often used to help students understand how\\\n",
    "     to correctly solve mathematical problems involving multiple operations.\n",
    "\n",
    "* **DEMAS** stands for Division, Multiplication, Addition, and Subtraction. It is similar\\\n",
    "     to PMDAS, but it does not include parentheses. This means that when evaluating an\\\n",
    "     expression using DEMAS, you would perform any division or multiplication before any\\\n",
    "     addition or subtraction.\n",
    "\n",
    "* **BODMAS** is an acronym that stands for Bracket, Order, Division, Multiplication, Addition,\\\n",
    "     and Subtraction. It is used to remember the order of operations when evaluating mathematical\\\n",
    "     expressions that include brackets. The acronym BODMAS is used in some countries, while\\\n",
    "     PMDAS or DEMAS is used in others.\n",
    "\n",
    "* In general, the order of operations is a set of rules that dictate the order in which arithmetic\\\n",
    "operations should be performed. These rules ensure that mathematical expressions are evaluated in\\\n",
    "a consistent and logical way, regardless of the complexity of the expression. The order of\\\n",
    "operations is important because it helps to eliminate ambiguity and ensures that everyone\\\n",
    "interprets and solves mathematical problems in the same way.\n",
    "\n",
    "* **Example:**\\\n",
    "  ((2X3)-2X3/2+3-6)\n",
    "* **Solution:**\\\n",
    "  ((2X3)-2X3/2+3-6)\\\n",
    "  ((6)-2X3/2+3-6)\\\n",
    "  ((6)-6/2+3-6)\\\n",
    "  ((6)-3+3-6)\\\n",
    "  ((6)-0-6)\\\n",
    "  (6-6)\\\n",
    "  (0)"
   ]
  },
  {
   "attachments": {},
   "cell_type": "markdown",
   "metadata": {},
   "source": [
    "# **Assignment No. 2**"
   ]
  },
  {
   "attachments": {},
   "cell_type": "markdown",
   "metadata": {},
   "source": [
    "* Five top integrated development environments (IDEs) for Python are:\n",
    "\n",
    "    * PyCharm\n",
    "    * Spyder\n",
    "    * Jupyter Notebook\n",
    "    * Visual Studio Code\n",
    "    * Sublime Text"
   ]
  }
 ],
 "metadata": {
  "kernelspec": {
   "display_name": "base",
   "language": "python",
   "name": "python3"
  },
  "language_info": {
   "name": "python",
   "version": "3.8.8 (default, Apr 13 2021, 15:08:03) [MSC v.1916 64 bit (AMD64)]"
  },
  "orig_nbformat": 4,
  "vscode": {
   "interpreter": {
    "hash": "aecfb227ac44484fb022c04138806e193908e7d04e0132d284db9bb6d59face6"
   }
  }
 },
 "nbformat": 4,
 "nbformat_minor": 2
}
