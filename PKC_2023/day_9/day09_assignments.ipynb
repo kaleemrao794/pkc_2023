{
 "cells": [
  {
   "attachments": {},
   "cell_type": "markdown",
   "metadata": {},
   "source": [
    "# **Assignments:**\n",
    "**1. Columns in Titanic dataset**\n",
    "\n",
    "**2. NaN values**\n",
    "\n",
    "**3. Datasets in sns.load_dataset( )**\n",
    "\n",
    "**4. Export dataset in another directory**\n",
    "\n",
    "**5. Import dataset from same directory**\n",
    "* **Author: Kaleem Ullah**\n",
    "* **Date:** 2023-01-09\n",
    "* **Email:** kaleemrao417@outlook.com"
   ]
  },
  {
   "attachments": {},
   "cell_type": "markdown",
   "metadata": {},
   "source": [
    "## **1. Columns explaination in Titanic dataset**\n",
    "* **survived:**\\\n",
    "    How many people survived the titanic disaster(0 = No, 1 = Yes).\n",
    "* **pclass:**\\\n",
    "   The class of the ticket the passenger purchased (1 = 1st, 2 = 2nd, 3 = 3rd).\n",
    "* **sex:**\\\n",
    "     The passenger's gender (male or female).\n",
    "* **age:**\\\n",
    "    The passenger's age in years.\n",
    "* **sibsp:**\\\n",
    "  The number of siblings or spouses the passenger had aboard the Titanic.\n",
    "* **parch:**\\\n",
    " The number of parents or children the passenger had aboard the Titanic.\n",
    "* **fare:**\\\n",
    "   The fare the passenger paid.\n",
    "* **embarked:**\\\n",
    "  The port where the passenger embarked (C = Cherbourg, Q = Queenstown, S = Southampton).\n",
    "* **class:**\\\n",
    "  The class of the ticket the passenger purchased (1 = 1st, 2 = 2nd, 3 = 3rd).\n",
    "* **who:**\\\n",
    "   The passenger is man, woman or child.\n",
    "* **adult_male:**\\\n",
    "   The passenger is adult male or not(True = Yes, False = No).\n",
    "* **deck:** \\\n",
    "  The deck of the Titanic where the passenger was staying.\n",
    "* **embark_town:**\\\n",
    " The town from where the passenger embarked.\n",
    "* **alive:**\\\n",
    "  The passenger survived or not.\n",
    "* **alone:**\\\n",
    "  The passenger was alone or not."
   ]
  },
  {
   "attachments": {},
   "cell_type": "markdown",
   "metadata": {},
   "source": [
    "## **2. What are NaN's and what are their importance in dataset?**\n",
    "* **NaN** stands for **Not a Number**.\\\n",
    "  It is a special value that is used to represent missing values in a dataset.\n",
    "* It is important to handle missing values in a dataset because most of the machine learning algorithms do not support missing values."
   ]
  },
  {
   "attachments": {},
   "cell_type": "markdown",
   "metadata": {},
   "source": [
    "## **3. How many datasets are in sns.load_dataset( ) and how to fetch?**\n",
    "\n",
    "```python\n",
    "print(len(sns.get_dataset_names()))\n",
    "print((sns.get_dataset_names()))\n",
    "sns.load_dataset('healthexp')\n",
    "```"
   ]
  },
  {
   "attachments": {},
   "cell_type": "markdown",
   "metadata": {},
   "source": [
    "## **4. Export dataset in another directory**\n",
    "\n",
    "```python\n",
    "kashti.to_csv('../day_8/titanic.csv')\n",
    "```"
   ]
  },
  {
   "attachments": {},
   "cell_type": "markdown",
   "metadata": {},
   "source": [
    "## **5. Load dataset from same directory**\n",
    "\n",
    "```python\n",
    "df = pd.read_csv('titanic.csv')\n",
    "df.head()\n",
    "```"
   ]
  }
 ],
 "metadata": {
  "kernelspec": {
   "display_name": "base",
   "language": "python",
   "name": "python3"
  },
  "language_info": {
   "name": "python",
   "version": "3.9.13 (main, Aug 25 2022, 23:51:50) [MSC v.1916 64 bit (AMD64)]"
  },
  "orig_nbformat": 4,
  "vscode": {
   "interpreter": {
    "hash": "aecfb227ac44484fb022c04138806e193908e7d04e0132d284db9bb6d59face6"
   }
  }
 },
 "nbformat": 4,
 "nbformat_minor": 2
}
