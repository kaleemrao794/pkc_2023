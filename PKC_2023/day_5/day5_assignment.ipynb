{
 "cells": [
  {
   "attachments": {},
   "cell_type": "markdown",
   "metadata": {},
   "source": [
    "#### **Subject:** \n",
    "1. **Libraries abbreviation**\n",
    "2. **Export ipynb file directly to PDF**\n",
    "\n",
    "#### **Author: Kaleem Ullah**\n",
    "\n",
    "#### **Date:** 2023-01-06\n",
    "\n",
    "#### **Email:** kaleemrao417@outlook.com"
   ]
  },
  {
   "attachments": {},
   "cell_type": "markdown",
   "metadata": {},
   "source": [
    "##### 1. **Libraries abbreviation**\n",
    "* **pandas:** short for \"Python Data Analysis Library\"\n",
    "* **numpy:** short for \"Numerical Python\"\n",
    "* **plotly:** short for \"Plotting Library\"\n",
    "* **seaborn:** short for \"Statistical Data Visualization\"\n",
    "* **matplotlib:** short for \"Mathematical Plotting Library\"\n",
    "* **scipy:** short for \"Scientific Python\""
   ]
  },
  {
   "attachments": {},
   "cell_type": "markdown",
   "metadata": {},
   "source": [
    "##### 2. **Export ipynb file directly to PDF**"
   ]
  },
  {
   "attachments": {},
   "cell_type": "markdown",
   "metadata": {},
   "source": [
    "##### **Solution**"
   ]
  },
  {
   "attachments": {},
   "cell_type": "markdown",
   "metadata": {},
   "source": [
    "* install the MikTex package\n",
    "  * to install the MikTex package, go to the following [link](https://miktex.org/download)\n",
    "  * follow the instructions to install the MikTex package provided in the link;\n",
    "  * [Click here](https://www.youtube.com/watch?v=EITY3U4lHus)"
   ]
  }
 ],
 "metadata": {
  "kernelspec": {
   "display_name": "base",
   "language": "python",
   "name": "python3"
  },
  "language_info": {
   "codemirror_mode": {
    "name": "ipython",
    "version": 3
   },
   "file_extension": ".py",
   "mimetype": "text/x-python",
   "name": "python",
   "nbconvert_exporter": "python",
   "pygments_lexer": "ipython3",
   "version": "3.9.13 (main, Aug 25 2022, 23:51:50) [MSC v.1916 64 bit (AMD64)]"
  },
  "orig_nbformat": 4,
  "vscode": {
   "interpreter": {
    "hash": "aecfb227ac44484fb022c04138806e193908e7d04e0132d284db9bb6d59face6"
   }
  }
 },
 "nbformat": 4,
 "nbformat_minor": 2
}
