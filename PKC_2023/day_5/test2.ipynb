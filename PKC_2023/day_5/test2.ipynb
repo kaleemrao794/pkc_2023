{
 "cells": [
  {
   "attachments": {},
   "cell_type": "markdown",
   "metadata": {},
   "source": [
    "* install the MikTex package\n",
    "  * to install the MikTex package, go to the following [link](https://miktex.org/download)\n",
    "  * follow the instructions to install the MikTex package provided in the link;\n",
    "  * [Click here](https://www.youtube.com/watch?v=EITY3U4lHus)"
   ]
  }
 ],
 "metadata": {
  "kernelspec": {
   "display_name": "base",
   "language": "python",
   "name": "python3"
  },
  "language_info": {
   "codemirror_mode": {
    "name": "ipython",
    "version": 3
   },
   "file_extension": ".py",
   "mimetype": "text/x-python",
   "name": "python",
   "nbconvert_exporter": "python",
   "pygments_lexer": "ipython3",
   "version": "3.9.13"
  },
  "orig_nbformat": 4,
  "vscode": {
   "interpreter": {
    "hash": "aecfb227ac44484fb022c04138806e193908e7d04e0132d284db9bb6d59face6"
   }
  }
 },
 "nbformat": 4,
 "nbformat_minor": 2
}
